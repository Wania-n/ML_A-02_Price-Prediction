{
 "cells": [
  {
   "cell_type": "markdown",
   "metadata": {},
   "source": [
    "Assignment #02 (Practice Stohastic Gradient Descent SDG)\n",
    "\n",
    "Submitted by Wania Naeem, 22I-2369 of CS-Z (Robo)\n",
    "\n",
    "The dataset is manually generated for price prediction of house, by creating features like Number of Rooms, Area, Price."
   ]
  },
  {
   "cell_type": "markdown",
   "metadata": {},
   "source": [
    "<p align=\"left\">\n",
    "  <a href=\"https://colab.research.google.com/github.com/Wania-n/ML_A-02_Price-Prediction/blob/main/22i-2369_ML_A2.ipynb\">\n",
    "    <img src=\"https://colab.research.google.com/assets/colab-badge.svg\" height=\"30\">\n",
    "  </a>\n",
    "  <a href=\"https://kaggle.com/kernels/welcome?src=https://raw.githubusercontent.com/Wania-n/ML_A-02_Price-Prediction/main/22i-2369_ML_A2.ipynb\">\n",
    "    <img src=\"https://kaggle.com/static/images/open-in-kaggle.svg\" height=\"30\">\n",
    "  </a>\n",
    "</p>"
   ]
  },
  {
   "cell_type": "markdown",
   "metadata": {},
   "source": [
    "2. Manually creating the dataset and saving it"
   ]
  },
  {
   "cell_type": "code",
   "execution_count": null,
   "metadata": {},
   "outputs": [],
   "source": [
    "import os\n",
    "\n"
   ]
  }
 ],
 "metadata": {
  "kernelspec": {
   "display_name": "Python 3",
   "language": "python",
   "name": "python3"
  },
  "language_info": {
   "name": "python",
   "version": "3.12.5"
  }
 },
 "nbformat": 4,
 "nbformat_minor": 2
}
